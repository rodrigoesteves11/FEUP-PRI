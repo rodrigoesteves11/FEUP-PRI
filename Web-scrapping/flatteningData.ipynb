{
 "cells": [
  {
   "cell_type": "code",
   "execution_count": 1,
   "metadata": {},
   "outputs": [
    {
     "name": "stdout",
     "output_type": "stream",
     "text": [
      "Transformation complete. Data saved to transformed_species_data.json\n"
     ]
    }
   ],
   "source": [
    "import json\n",
    "import os\n",
    "\n",
    "# Function to transform each species entry to Solr-compatible format\n",
    "def transform_data(input_data):\n",
    "    transformed_data = []\n",
    "    \n",
    "    # Loop through each species in the input data\n",
    "    for species_name, details in input_data.items():\n",
    "        # Combine all nested texts in \"sections\" into a single field\n",
    "        sections_text = \"\"\n",
    "        for section_name, text in details.get(\"sections\", {}).items():\n",
    "            sections_text += f\"{text}\\n\\n\"  # Append each section text with a double newline as separator\n",
    "        \n",
    "        # Flatten each entry for Solr's document format\n",
    "        document = {\n",
    "            \"id\": species_name.replace(\" \", \"_\"),  # Unique ID by replacing spaces with underscores\n",
    "            \"name\": species_name,\n",
    "            \"introduction\": details.get(\"introduction\", \"\"),\n",
    "            \"sections\": sections_text.strip(),  # Strip any trailing newlines\n",
    "            \"kingdom\": details.get(\"scientific_classification\", {}).get(\"Kingdom\", \"\"),\n",
    "            \"clade\": details.get(\"scientific_classification\", {}).get(\"Clade\", \"\"),\n",
    "            \"order\": details.get(\"scientific_classification\", {}).get(\"Order\", \"\"),\n",
    "            \"family\": details.get(\"scientific_classification\", {}).get(\"Family\", \"\"),\n",
    "            \"subfamily\": details.get(\"scientific_classification\", {}).get(\"Subfamily\", \"\"),\n",
    "            \"tribe\": details.get(\"scientific_classification\", {}).get(\"Tribe\", \"\"),\n",
    "            \"genus\": details.get(\"scientific_classification\", {}).get(\"Genus\", \"\"),\n",
    "            \"species\": details.get(\"scientific_classification\", {}).get(\"Species\", \"\"),\n",
    "            \"who_discovered\": details.get(\"who_discovered\", \"\"),\n",
    "            \"conservation_status\": details.get(\"conservation_status\", \"\"),\n",
    "            \"image_url\": details.get(\"image_url\", \"\")\n",
    "        }\n",
    "        \n",
    "        # Append transformed document to the list\n",
    "        transformed_data.append(document)\n",
    "    \n",
    "    return transformed_data\n",
    "\n",
    "# Main function to process a single JSON file and output to Solr-compatible JSON\n",
    "def process_single_json_file(input_file, output_file):\n",
    "    # Load the JSON data from the single file\n",
    "    with open(input_file, 'r', encoding='utf-8') as f:\n",
    "        data = json.load(f)\n",
    "    \n",
    "    # Transform the data\n",
    "    transformed_data = transform_data(data)\n",
    "    \n",
    "    # Write the transformed data to the output file\n",
    "    with open(output_file, 'w', encoding='utf-8') as f:\n",
    "        json.dump(transformed_data, f, indent=2)\n",
    "\n",
    "# Specify the input file and output file\n",
    "input_file = \"json_global.json\"  # Update this with the actual file path\n",
    "output_file = \"transformed_species_data.json\"  # Desired output file for Solr\n",
    "\n",
    "# Run the processing function\n",
    "process_single_json_file(input_file, output_file)\n",
    "\n",
    "print(f\"Transformation complete. Data saved to {output_file}\")\n"
   ]
  }
 ],
 "metadata": {
  "kernelspec": {
   "display_name": "Python 3",
   "language": "python",
   "name": "python3"
  },
  "language_info": {
   "codemirror_mode": {
    "name": "ipython",
    "version": 3
   },
   "file_extension": ".py",
   "mimetype": "text/x-python",
   "name": "python",
   "nbconvert_exporter": "python",
   "pygments_lexer": "ipython3",
   "version": "3.11.5"
  }
 },
 "nbformat": 4,
 "nbformat_minor": 2
}
